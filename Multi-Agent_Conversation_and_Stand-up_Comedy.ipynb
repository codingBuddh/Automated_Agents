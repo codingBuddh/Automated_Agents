{
 "cells": [
  {
   "cell_type": "markdown",
   "id": "a81456dd",
   "metadata": {},
   "source": [
    "## Multi-Agent Conversation and TechDiscussion"
   ]
  },
  {
   "cell_type": "markdown",
   "id": "4693467e",
   "metadata": {},
   "source": []
  },
  {
   "cell_type": "markdown",
   "id": "742cf649",
   "metadata": {},
   "source": [
    "## Setup"
   ]
  },
  {
   "cell_type": "code",
   "execution_count": 1,
   "id": "04d006c1-22fa-40ea-b3e0-d543142e0788",
   "metadata": {
    "height": 64
   },
   "outputs": [],
   "source": [
    "from utils import get_openai_api_key\n",
    "OPENAI_API_KEY = get_openai_api_key()\n",
    "llm_config = {\"model\": \"gpt-3.5-turbo\"}"
   ]
  },
  {
   "cell_type": "markdown",
   "id": "116a1c4d",
   "metadata": {},
   "source": [
    "## Define an AutoGen agent"
   ]
  },
  {
   "cell_type": "code",
   "execution_count": 2,
   "id": "6fb8c441-c58c-41a8-a54b-5c387afceac5",
   "metadata": {
    "height": 132
   },
   "outputs": [],
   "source": [
    "from autogen import ConversableAgent\n",
    "\n",
    "agent = ConversableAgent(\n",
    "    name=\"chatbot\",\n",
    "    llm_config=llm_config,\n",
    "    human_input_mode=\"NEVER\",\n",
    ")"
   ]
  },
  {
   "cell_type": "code",
   "execution_count": 3,
   "id": "47886b5f-fc7c-431a-8036-cff6e88f85c6",
   "metadata": {
    "height": 81
   },
   "outputs": [
    {
     "name": "stdout",
     "output_type": "stream",
     "text": [
      "Sure! Some of the current trends in the field of AI include:\n",
      "1. **Machine Learning**: This continues to be a major trend in AI, with advances in deep learning algorithms and neural networks leading to improvements in various applications.\n",
      "2. **Natural Language Processing (NLP)**: NLP technologies like chatbots, sentiment analysis, and language translation are seeing rapid advancements.\n",
      "3. **Computer Vision**: AI-powered computer vision technologies are being used for various applications like facial recognition, object recognition, and autonomous vehicles.\n",
      "4. **AI Ethics and Bias**: There is a growing focus on the ethical implications of AI technologies, including issues related to bias, privacy, and accountability.\n",
      "5. **AI in Healthcare**: AI is being increasingly applied in healthcare for tasks like medical image analysis, drug discovery, personalized medicine, and health monitoring.\n",
      "6. **Autonomous Systems**: AI is being used to power autonomous systems in various industries, including self-driving cars, drones, and robotics.\n",
      "7. **AI and IoT Integration**: AI is being integrated with Internet of Things (IoT) devices to enable smart and connected systems.\n",
      "8. **AI in Cybersecurity**: AI technologies are being used to enhance cybersecurity measures, including threat detection, fraud prevention, and network security.\n",
      "\n",
      "These are just a few of the current trends in AI, and the field continues to evolve rapidly with new developments and applications emerging regularly.\n"
     ]
    }
   ],
   "source": [
    "reply = agent.generate_reply(\n",
    "    messages=[{\"content\": \"Tell me what's trending in AI.\", \"role\": \"user\"}]\n",
    ")\n",
    "print(reply)"
   ]
  },
  {
   "cell_type": "markdown",
   "id": "8c98a301",
   "metadata": {},
   "source": [
    "## Conversation\n",
    "\n",
    "Setting up a conversation between two agents, aakash and Sidharth, where the memory of their interactions is retained."
   ]
  },
  {
   "cell_type": "code",
   "execution_count": 6,
   "id": "8f109dcb-824e-40d7-8e86-efee42b75f3c",
   "metadata": {
    "height": 285
   },
   "outputs": [],
   "source": [
    "aakash = ConversableAgent(\n",
    "    name=\"aakash\",\n",
    "    system_message=\n",
    "    \"Your name is aakash and you are a technical consultant.\",\n",
    "    llm_config=llm_config,\n",
    "    human_input_mode=\"NEVER\",\n",
    ")\n",
    "\n",
    "Sidharth = ConversableAgent(\n",
    "    name=\"Sidharth\",\n",
    "    system_message=\n",
    "    \"Your name is Sidharth and you are a technical consultant. \"\n",
    "    \"Start the next conversation from the punchline of the talk.\",\n",
    "    llm_config=llm_config,\n",
    "    human_input_mode=\"NEVER\",\n",
    ")"
   ]
  },
  {
   "cell_type": "code",
   "execution_count": 7,
   "id": "46a1c6f6-687e-40de-8819-374201cfed9f",
   "metadata": {
    "height": 98
   },
   "outputs": [
    {
     "name": "stdout",
     "output_type": "stream",
     "text": [
      "\u001b[33mSidharth\u001b[0m (to aakash):\n",
      "\n",
      "I'm Sidharth. aakash, let's keep the dissucssion rolling.\n",
      "\n",
      "--------------------------------------------------------------------------------\n",
      "\u001b[33maakash\u001b[0m (to Sidharth):\n",
      "\n",
      "Hi Sidharth, great to connect with you! What topics or issues are you interested in discussing today?\n",
      "\n",
      "--------------------------------------------------------------------------------\n",
      "\u001b[33mSidharth\u001b[0m (to aakash):\n",
      "\n",
      "Great to connect with you too, aakash! I'm interested in discussing any upcoming technical trends or challenges you may be facing in your projects. Is there anything specific you would like to dive into?\n",
      "\n",
      "--------------------------------------------------------------------------------\n",
      "\u001b[33maakash\u001b[0m (to Sidharth):\n",
      "\n",
      "I'm glad you're interested in discussing technical trends and challenges, Sidharth. One trend that has been gaining a lot of momentum is the adoption of artificial intelligence and machine learning in various industries. It has the potential to revolutionize processes and decision-making across different sectors.\n",
      "\n",
      "As for challenges, cybersecurity continues to be a significant concern for organizations, with cyber threats becoming more sophisticated and frequent. Ensuring data security and privacy while maintaining system reliability is a critical challenge faced by many companies today.\n",
      "\n",
      "I'd love to hear your thoughts on these trends and challenges, Sidharth, and any insights you may have on how businesses can navigate them successfully. Let me know if you have any specific areas you'd like to explore further!\n",
      "\n",
      "--------------------------------------------------------------------------------\n"
     ]
    }
   ],
   "source": [
    "chat_result = Sidharth.initiate_chat(\n",
    "    recipient=aakash, \n",
    "    message=\"I'm Sidharth. aakash, let's keep the dissucssion rolling.\",\n",
    "    max_turns=2,\n",
    ")"
   ]
  },
  {
   "cell_type": "markdown",
   "id": "78edc810",
   "metadata": {},
   "source": [
    "## Print some results\n",
    "\n",
    "\n",
    "1. Chat history\n",
    "2. Cost\n",
    "3. Summary of the conversation"
   ]
  },
  {
   "cell_type": "code",
   "execution_count": 8,
   "id": "1169ea24-eadd-4909-8d56-9b7ec5677c66",
   "metadata": {
    "height": 64
   },
   "outputs": [
    {
     "name": "stdout",
     "output_type": "stream",
     "text": [
      "[{'content': \"I'm Sidharth. aakash, let's keep the dissucssion rolling.\",\n",
      "  'role': 'assistant'},\n",
      " {'content': 'Hi Sidharth, great to connect with you! What topics or issues '\n",
      "             'are you interested in discussing today?',\n",
      "  'role': 'user'},\n",
      " {'content': \"Great to connect with you too, aakash! I'm interested in \"\n",
      "             'discussing any upcoming technical trends or challenges you may '\n",
      "             'be facing in your projects. Is there anything specific you would '\n",
      "             'like to dive into?',\n",
      "  'role': 'assistant'},\n",
      " {'content': \"I'm glad you're interested in discussing technical trends and \"\n",
      "             'challenges, Sidharth. One trend that has been gaining a lot of '\n",
      "             'momentum is the adoption of artificial intelligence and machine '\n",
      "             'learning in various industries. It has the potential to '\n",
      "             'revolutionize processes and decision-making across different '\n",
      "             'sectors.\\n'\n",
      "             '\\n'\n",
      "             'As for challenges, cybersecurity continues to be a significant '\n",
      "             'concern for organizations, with cyber threats becoming more '\n",
      "             'sophisticated and frequent. Ensuring data security and privacy '\n",
      "             'while maintaining system reliability is a critical challenge '\n",
      "             'faced by many companies today.\\n'\n",
      "             '\\n'\n",
      "             \"I'd love to hear your thoughts on these trends and challenges, \"\n",
      "             'Sidharth, and any insights you may have on how businesses can '\n",
      "             'navigate them successfully. Let me know if you have any specific '\n",
      "             \"areas you'd like to explore further!\",\n",
      "  'role': 'user'}]\n"
     ]
    }
   ],
   "source": [
    "import pprint\n",
    "\n",
    "pprint.pprint(chat_result.chat_history)"
   ]
  },
  {
   "cell_type": "code",
   "execution_count": 9,
   "id": "550267b6-3652-40dc-9997-c5401f6d4c47",
   "metadata": {
    "height": 30
   },
   "outputs": [
    {
     "name": "stdout",
     "output_type": "stream",
     "text": [
      "{'usage_excluding_cached_inference': {'gpt-3.5-turbo-0125': {'completion_tokens': 210,\n",
      "                                                             'cost': 0.00043250000000000005,\n",
      "                                                             'prompt_tokens': 235,\n",
      "                                                             'total_tokens': 445},\n",
      "                                      'total_cost': 0.00043250000000000005},\n",
      " 'usage_including_cached_inference': {'gpt-3.5-turbo-0125': {'completion_tokens': 210,\n",
      "                                                             'cost': 0.00043250000000000005,\n",
      "                                                             'prompt_tokens': 235,\n",
      "                                                             'total_tokens': 445},\n",
      "                                      'total_cost': 0.00043250000000000005}}\n"
     ]
    }
   ],
   "source": [
    "pprint.pprint(chat_result.cost)"
   ]
  },
  {
   "cell_type": "code",
   "execution_count": 10,
   "id": "dfcf468e-d217-4731-8cb4-3485377230f1",
   "metadata": {
    "height": 30
   },
   "outputs": [
    {
     "name": "stdout",
     "output_type": "stream",
     "text": [
      "(\"I'm glad you're interested in discussing technical trends and challenges, \"\n",
      " 'Sidharth. One trend that has been gaining a lot of momentum is the adoption '\n",
      " 'of artificial intelligence and machine learning in various industries. It '\n",
      " 'has the potential to revolutionize processes and decision-making across '\n",
      " 'different sectors.\\n'\n",
      " '\\n'\n",
      " 'As for challenges, cybersecurity continues to be a significant concern for '\n",
      " 'organizations, with cyber threats becoming more sophisticated and frequent. '\n",
      " 'Ensuring data security and privacy while maintaining system reliability is a '\n",
      " 'critical challenge faced by many companies today.\\n'\n",
      " '\\n'\n",
      " \"I'd love to hear your thoughts on these trends and challenges, Sidharth, and \"\n",
      " 'any insights you may have on how businesses can navigate them successfully. '\n",
      " \"Let me know if you have any specific areas you'd like to explore further!\")\n"
     ]
    }
   ],
   "source": [
    "pprint.pprint(chat_result.summary)"
   ]
  },
  {
   "cell_type": "markdown",
   "id": "ba8c6cf8",
   "metadata": {},
   "source": [
    "## Get a better summary of the conversation"
   ]
  },
  {
   "cell_type": "code",
   "execution_count": 11,
   "id": "c1a8fef1-8030-4652-a2d2-1648834f62c2",
   "metadata": {
    "height": 132
   },
   "outputs": [
    {
     "name": "stdout",
     "output_type": "stream",
     "text": [
      "\u001b[33mSidharth\u001b[0m (to aakash):\n",
      "\n",
      "I'm Sidharth. Aakash, let's keep the jokes rolling.\n",
      "\n",
      "--------------------------------------------------------------------------------\n",
      "\u001b[33maakash\u001b[0m (to Sidharth):\n",
      "\n",
      "Sure, Sidharth! Why did the computer keep its drinks on the mouse pad?\n",
      "Because it heard it was important to have good support for its beverages!\n",
      "\n",
      "--------------------------------------------------------------------------------\n",
      "\u001b[33mSidharth\u001b[0m (to aakash):\n",
      "\n",
      "Haha, that's a good one, Aakash! It's all about ensuring proper support, even for drinks, right? Speaking of support, have you considered optimizing your computer's performance with regular maintenance checks?\n",
      "\n",
      "--------------------------------------------------------------------------------\n",
      "\u001b[33maakash\u001b[0m (to Sidharth):\n",
      "\n",
      "That's a great point, Sidharth! Regular maintenance checks can indeed help optimize a computer's performance and ensure everything is running smoothly. It's important to keep the system updated, clean up unnecessary files, scan for malware, and ensure proper ventilation for hardware components. If you ever need assistance with computer maintenance or optimization, feel free to reach out to me for technical advice!\n",
      "\n",
      "--------------------------------------------------------------------------------\n"
     ]
    }
   ],
   "source": [
    "chat_result = Sidharth.initiate_chat(\n",
    "    aakash, \n",
    "    message=\"I'm Sidharth. Aakash, let's keep the jokes rolling.\", \n",
    "    max_turns=2, \n",
    "    summary_method=\"reflection_with_llm\",\n",
    "    summary_prompt=\"Summarize the conversation\",\n",
    ")"
   ]
  },
  {
   "cell_type": "code",
   "execution_count": 12,
   "id": "b042de62-bc49-49ee-99f2-4f972e23670b",
   "metadata": {
    "height": 30
   },
   "outputs": [
    {
     "name": "stdout",
     "output_type": "stream",
     "text": [
      "(\"Regular maintenance checks can help optimize a computer's performance and \"\n",
      " 'ensure everything is running smoothly. Keeping the system updated, cleaning '\n",
      " 'up unnecessary files, scanning for malware, and ensuring proper ventilation '\n",
      " 'are important for hardware components. If assistance is needed with computer '\n",
      " 'maintenance or optimization, feel free to reach out for technical advice.')\n"
     ]
    }
   ],
   "source": [
    "pprint.pprint(chat_result.summary)"
   ]
  },
  {
   "cell_type": "markdown",
   "id": "300525bd",
   "metadata": {},
   "source": [
    "## Chat Termination\n",
    "\n",
    "Chat can be terminated using a termination conditions."
   ]
  },
  {
   "cell_type": "code",
   "execution_count": 13,
   "id": "044dfd61-7f1d-46d8-9e28-4b2601b43d70",
   "metadata": {
    "height": 336
   },
   "outputs": [],
   "source": [
    "aakash = ConversableAgent(\n",
    "    name=\"aakash\",\n",
    "    system_message=\n",
    "    \"Your name is aakash and you are a technical consultant \"\n",
    "    \"When you're ready to end the conversation, say 'I gotta go'.\",\n",
    "    llm_config=llm_config,\n",
    "    human_input_mode=\"NEVER\",\n",
    "    is_termination_msg=lambda msg: \"I gotta go\" in msg[\"content\"],\n",
    ")\n",
    "\n",
    "sidharth = ConversableAgent(\n",
    "    name=\"sidharth\",\n",
    "    system_message=\n",
    "    \"Your name is sidharth and you are a technical consultant. \"\n",
    "    \"When you're ready to end the conversation, say 'I gotta go'.\",\n",
    "    llm_config=llm_config,\n",
    "    human_input_mode=\"NEVER\",\n",
    "    is_termination_msg=lambda msg: \"I gotta go\" in msg[\"content\"] or \"Goodbye\" in msg[\"content\"],\n",
    ")"
   ]
  },
  {
   "cell_type": "code",
   "execution_count": 14,
   "id": "bc49d959-1025-4709-8866-9d4035eaeae7",
   "metadata": {
    "height": 81
   },
   "outputs": [
    {
     "name": "stdout",
     "output_type": "stream",
     "text": [
      "\u001b[33msidharth\u001b[0m (to aakash):\n",
      "\n",
      "I'm sidharth. aakash, let's keep the technical conversation rolling.\n",
      "\n",
      "--------------------------------------------------------------------------------\n",
      "\u001b[33maakash\u001b[0m (to sidharth):\n",
      "\n",
      "Sure, Sidharth! What technical topic do you want to discuss today?\n",
      "\n",
      "--------------------------------------------------------------------------------\n",
      "\u001b[33msidharth\u001b[0m (to aakash):\n",
      "\n",
      "How about we discuss the latest trends in cloud computing and how businesses can leverage them for better efficiency and scalability?\n",
      "\n",
      "--------------------------------------------------------------------------------\n",
      "\u001b[33maakash\u001b[0m (to sidharth):\n",
      "\n",
      "That's a great topic, Sidharth! Cloud computing has been evolving rapidly, and there are several trends that businesses can leverage for better efficiency and scalability. Some of the latest trends in cloud computing include:\n",
      "\n",
      "1. **Multi-cloud and hybrid cloud strategies:** Businesses are increasingly adopting multi-cloud and hybrid cloud strategies to spread their workloads across multiple cloud providers and on-premises infrastructure. This approach helps in avoiding vendor lock-in, optimizing costs, and ensuring better redundancy and resilience.\n",
      "\n",
      "2. **Edge computing:** With the proliferation of IoT devices and the need for real-time processing of data, edge computing has become increasingly important. By leveraging edge computing capabilities, businesses can process data closer to the source, reducing latency and improving performance.\n",
      "\n",
      "3. **Serverless computing:** Serverless computing, also known as Function as a Service (FaaS), allows businesses to run applications without managing servers. This results in cost savings, improved scalability, and faster time-to-market for new applications.\n",
      "\n",
      "4. **AI and machine learning in cloud services:** Cloud providers are increasingly integrating AI and machine learning capabilities into their services. Businesses can leverage these capabilities for data analytics, predictive maintenance, personalized customer experiences, and more.\n",
      "\n",
      "5. **Containers and Kubernetes:** Containers have become a popular choice for packaging, deploying, and managing applications in the cloud. Kubernetes, an open-source container orchestration platform, helps businesses manage containerized applications at scale efficiently.\n",
      "\n",
      "By leveraging these trends in cloud computing, businesses can drive innovation, achieve better efficiency, and scale their operations effectively. Do you have any specific questions or examples you'd like to discuss further, Sidharth?\n",
      "\n",
      "--------------------------------------------------------------------------------\n",
      "\u001b[33msidharth\u001b[0m (to aakash):\n",
      "\n",
      "I gotta go.\n",
      "\n",
      "--------------------------------------------------------------------------------\n"
     ]
    }
   ],
   "source": [
    "chat_result = sidharth.initiate_chat(\n",
    "    recipient=aakash,\n",
    "    message=\"I'm sidharth. aakash, let's keep the technical conversation rolling.\"\n",
    ")"
   ]
  },
  {
   "cell_type": "code",
   "execution_count": 15,
   "id": "846eccbd-efd1-464b-9385-279c19b17c1d",
   "metadata": {
    "height": 30
   },
   "outputs": [
    {
     "name": "stdout",
     "output_type": "stream",
     "text": [
      "\u001b[33maakash\u001b[0m (to sidharth):\n",
      "\n",
      "What's last thing we talked about?\n",
      "\n",
      "--------------------------------------------------------------------------------\n",
      "\u001b[33msidharth\u001b[0m (to aakash):\n",
      "\n",
      "We last discussed the latest trends in cloud computing, including multi-cloud and hybrid cloud strategies, edge computing, serverless computing, AI and machine learning in cloud services, and containers and Kubernetes. If you have any more questions or topics you'd like to discuss in the future, feel free to reach out. Take care!\n",
      "\n",
      "--------------------------------------------------------------------------------\n",
      "\u001b[33maakash\u001b[0m (to sidharth):\n",
      "\n",
      "Thank you! Feel free to reach out anytime you have more questions. Have a great day!\n",
      "\n",
      "--------------------------------------------------------------------------------\n",
      "\u001b[33msidharth\u001b[0m (to aakash):\n",
      "\n",
      "Thank you! Have a great day as well!\n",
      "\n",
      "--------------------------------------------------------------------------------\n",
      "\u001b[33maakash\u001b[0m (to sidharth):\n",
      "\n",
      "You're welcome! Goodbye!\n",
      "\n",
      "--------------------------------------------------------------------------------\n"
     ]
    }
   ],
   "source": [
    "aakash.send(message=\"What's last thing we talked about?\", recipient=sidharth)"
   ]
  }
 ],
 "metadata": {
  "kernelspec": {
   "display_name": "Python 3 (ipykernel)",
   "language": "python",
   "name": "python3"
  },
  "language_info": {
   "codemirror_mode": {
    "name": "ipython",
    "version": 3
   },
   "file_extension": ".py",
   "mimetype": "text/x-python",
   "name": "python",
   "nbconvert_exporter": "python",
   "pygments_lexer": "ipython3",
   "version": "3.11.9"
  }
 },
 "nbformat": 4,
 "nbformat_minor": 5
}
